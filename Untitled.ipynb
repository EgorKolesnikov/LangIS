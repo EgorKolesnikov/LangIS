{
 "cells": [
  {
   "cell_type": "code",
   "execution_count": 45,
   "metadata": {},
   "outputs": [],
   "source": [
    "qwe = \"\"\"\n",
    "select\n",
    "\tcandidate_id,\n",
    "\tstring_agg(sphere_name, ' # ') as spheres\n",
    "from (\n",
    "\tselect\n",
    "\t\tcandidate_id as candidate_id,\n",
    "\t\tsphere.name as sphere_name\n",
    "\tfrom (\n",
    "\t\tselect\n",
    "\t\t\tcandidate.id as candidate_id,\n",
    "\t\t\tcp.professional_sphere_id as sphere_id\n",
    "\t\tfrom candidates_candidate as candidate\n",
    "\t\tleft outer join candidates_candidateprofession as cp on cp.candidate_id = candidate.id\n",
    "\t) s1\n",
    "\tleft outer join professions_professionalsphere as sphere on sphere.id = s1.sphere_id;\n",
    ") s2\n",
    "group by candidate_id;\n",
    "\"\"\""
   ]
  },
  {
   "cell_type": "code",
   "execution_count": 46,
   "metadata": {},
   "outputs": [
    {
     "name": "stdout",
     "output_type": "stream",
     "text": [
      "\\copy (select  candidate_id,  string_agg(sphere_name, ' # ') as spheres from (  select   candidate_id as candidate_id,   sphere.name as sphere_name  from (   select    candidate.id as candidate_id,    cp.professional_sphere_id as sphere_id   from candidates_candidate as candidate   left outer join candidates_candidateprofession as cp on cp.candidate_id = candidate.id  ) s1  left outer join professions_professionalsphere as sphere on sphere.id = s1.sphere_id ) s2 group by candidate_id) To '/home/docker/candidates_spheres.csv' With CSV DELIMITER ',' header;\n"
     ]
    }
   ],
   "source": [
    "print u\"\\copy ({}) To '/home/docker/candidates_spheres.csv' With CSV DELIMITER ',' header;\".format(\n",
    "    qwe.replace('\\n', ' ').replace('\\t', ' ').replace(';', '').strip()\n",
    ")"
   ]
  },
  {
   "cell_type": "code",
   "execution_count": 53,
   "metadata": {},
   "outputs": [],
   "source": [
    "with open('/home/kolegor/candidates_spheres.csv', 'r') as inf:\n",
    "    lines = []\n",
    "    \n",
    "    _ = next(inf)\n",
    "    for line in inf:\n",
    "        tokens = line.strip().split(',')\n",
    "        lines.append((int(tokens[0]), set(filter(None, map(lambda x: x.strip(), tokens[1].split('#'))))))"
   ]
  },
  {
   "cell_type": "code",
   "execution_count": 54,
   "metadata": {},
   "outputs": [
    {
     "name": "stdout",
     "output_type": "stream",
     "text": [
      "10323690 set([])\n"
     ]
    }
   ],
   "source": [
    "for a, b in lines:\n",
    "    if a == 10323690:\n",
    "        print a, b"
   ]
  },
  {
   "cell_type": "code",
   "execution_count": 62,
   "metadata": {},
   "outputs": [],
   "source": [
    "count_total = 0\n",
    "count_empty = 0\n",
    "count_non_empty = 0\n",
    "count_in_1 = 0\n",
    "count_in_2 = 0\n",
    "uids_in_both = []\n",
    "\n",
    "check_1 = set([\n",
    "    \"Эксплуатация сервисов\",\n",
    "    \"Управление проектами и продуктами\",\n",
    "    \"Техническая аналитика\",\n",
    "    \"Тестирование\",\n",
    "    \"Разработка\"\n",
    "])\n",
    "\n",
    "check_2 = set([\n",
    "    \"Дизайн\",\n",
    "    \"Маркетинг\"\n",
    "])"
   ]
  },
  {
   "cell_type": "code",
   "execution_count": 63,
   "metadata": {},
   "outputs": [],
   "source": [
    "for uid, spheres in lines:\n",
    "    count_total += 1\n",
    "\n",
    "    if not spheres:\n",
    "        count_empty += 1\n",
    "        continue\n",
    "\n",
    "    count_non_empty += 1\n",
    "\n",
    "    intersects_1 = check_1.intersection(spheres)\n",
    "    intersects_2 = check_2.intersection(spheres)\n",
    "    \n",
    "    if intersects_1 and intersects_2:\n",
    "        uids_in_both.append(uid)\n",
    "\n",
    "    if intersects_1:\n",
    "        count_in_1 += 1\n",
    "    elif intersects_2:\n",
    "        count_in_2 += 1"
   ]
  },
  {
   "cell_type": "code",
   "execution_count": 64,
   "metadata": {},
   "outputs": [
    {
     "name": "stdout",
     "output_type": "stream",
     "text": [
      "Всего: 349019\n",
      "Пусто: 25295\n",
      "Не пусто: 323724\n",
      "Из 1: 141975\n",
      "Из 2: 18972\n",
      "Обе: 3663\n",
      "\n"
     ]
    }
   ],
   "source": [
    "print u'Всего: {}\\nПусто: {}\\nНе пусто: {}\\nИз 1: {}\\nИз 2: {}\\nОбе: {}\\n'.format(\n",
    "    count_total,\n",
    "    count_empty,\n",
    "    count_non_empty,\n",
    "    count_in_1,\n",
    "    count_in_2,\n",
    "    len(uids_in_both)\n",
    ")"
   ]
  },
  {
   "cell_type": "code",
   "execution_count": 59,
   "metadata": {},
   "outputs": [
    {
     "data": {
      "text/plain": [
       "78472724"
      ]
     },
     "execution_count": 59,
     "metadata": {},
     "output_type": "execute_result"
    }
   ],
   "source": [
    "uids_in_both[100]"
   ]
  },
  {
   "cell_type": "code",
   "execution_count": 65,
   "metadata": {},
   "outputs": [],
   "source": [
    "qwe = {u'assignments': [{u'legislationCode': u'RU', u'assignmentID': 352251, u'primaryFlag': u'Y', u'taxUnitName': u'\\u041e\\u041e\\u041e \\u042f\\u043d\\u0434\\u0435\\u043a\\u0441.\\u0422\\u0430\\u043a\\u0441\\u0438', u'orgName': u'\\u041e\\u0442\\u0434\\u0435\\u043b \\u043c\\u0435\\u0436\\u0434\\u0443\\u043d\\u0430\\u0440\\u043e\\u0434\\u043d\\u043e\\u0433\\u043e \\u0440\\u0430\\u0437\\u0432\\u0438\\u0442\\u0438\\u044f \\u042f\\u043d\\u0434\\u0435\\u043a\\u0441.\\u0422\\u0430\\u043a\\u0441\\u0438', u'orgID': 147807, u'contractType': u'\\u0412\\u043d\\u0435\\u0448\\u043d\\u0438\\u0439 \\u0441\\u043e\\u0432\\u043c\\u0435\\u0441\\u0442\\u0438\\u0442\\u0435\\u043b\\u044c', u'taxUnitID': u'64552'}, {u'legislationCode': u'AM', u'assignmentID': 459075, u'primaryFlag': u'Y', u'taxUnitName': u'Yandex.Taxi AM', u'orgName': u'\\u0421\\u043b\\u0443\\u0436\\u0431\\u0430 \\u043c\\u0435\\u0436\\u0434\\u0443\\u043d\\u0430\\u0440\\u043e\\u0434\\u043d\\u043e\\u0433\\u043e \\u0440\\u0430\\u0437\\u0432\\u0438\\u0442\\u0438\\u044f \\u042f\\u043d\\u0434\\u0435\\u043a\\u0441.\\u0422\\u0430\\u043a\\u0441\\u0438.AM', u'orgID': 106156, u'contractType': u'\\u041e\\u0441\\u043d\\u043e\\u0432\\u043d\\u043e\\u0435 \\u043c\\u0435\\u0441\\u0442\\u043e \\u0440\\u0430\\u0431\\u043e\\u0442\\u044b', u'taxUnitID': u'100110'}], u'login': u'musheg'}"
   ]
  },
  {
   "cell_type": "code",
   "execution_count": 76,
   "metadata": {},
   "outputs": [
    {
     "name": "stdout",
     "output_type": "stream",
     "text": [
      "\n",
      "\n",
      "taxUnitID 64552\n",
      "orgName Отдел международного развития Яндекс.Такси\n",
      "legislationCode RU\n",
      "orgID 147807\n",
      "assignmentID 352251\n",
      "contractType Внешний совместитель\n",
      "primaryFlag Y\n",
      "taxUnitName ООО Яндекс.Такси\n",
      "\n",
      "\n",
      "taxUnitID 100110\n",
      "orgName Служба международного развития Яндекс.Такси.AM\n",
      "legislationCode AM\n",
      "orgID 106156\n",
      "assignmentID 459075\n",
      "contractType Основное место работы\n",
      "primaryFlag Y\n",
      "taxUnitName Yandex.Taxi AM\n"
     ]
    }
   ],
   "source": [
    "for assignment in qwe['assignments']:\n",
    "    print '\\n'\n",
    "    for a, b in assignment.iteritems():\n",
    "        print a, b"
   ]
  },
  {
   "cell_type": "code",
   "execution_count": 71,
   "metadata": {},
   "outputs": [],
   "source": [
    "for assignment in qwe['assignments']:\n",
    "    if assignment.get('primaryFlag', 'N') == 'Y':\n",
    "        primary = assignment['taxUnitName']\n",
    "\n",
    "if primary is None:\n",
    "    primary = qwe['assignments'][0]['taxUnitName']"
   ]
  },
  {
   "cell_type": "code",
   "execution_count": 72,
   "metadata": {},
   "outputs": [
    {
     "data": {
      "text/plain": [
       "u'Yandex.Taxi AM'"
      ]
     },
     "execution_count": 72,
     "metadata": {},
     "output_type": "execute_result"
    }
   ],
   "source": [
    "primary"
   ]
  },
  {
   "cell_type": "code",
   "execution_count": null,
   "metadata": {},
   "outputs": [],
   "source": []
  }
 ],
 "metadata": {
  "kernelspec": {
   "display_name": "Python 2",
   "language": "python",
   "name": "python2"
  },
  "language_info": {
   "codemirror_mode": {
    "name": "ipython",
    "version": 2
   },
   "file_extension": ".py",
   "mimetype": "text/x-python",
   "name": "python",
   "nbconvert_exporter": "python",
   "pygments_lexer": "ipython2",
   "version": "2.7.12"
  }
 },
 "nbformat": 4,
 "nbformat_minor": 2
}
