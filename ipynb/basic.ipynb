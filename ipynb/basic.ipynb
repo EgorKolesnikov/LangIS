{
 "cells": [
  {
   "cell_type": "code",
   "execution_count": 1,
   "metadata": {},
   "outputs": [],
   "source": [
    "import collections\n",
    "import librosa\n",
    "import matplotlib as plt\n",
    "import numpy as np\n",
    "import os\n",
    "import python_speech_features as psf\n",
    "import random\n",
    "import struct\n",
    "import wave"
   ]
  },
  {
   "cell_type": "code",
   "execution_count": 30,
   "metadata": {},
   "outputs": [],
   "source": [
    "import keras\n",
    "from keras.models import Sequential,Input,Model\n",
    "from keras.layers import Dense, Dropout, Flatten\n",
    "from keras.layers import Conv2D, MaxPooling2D, Conv1D\n",
    "from keras.layers.normalization import BatchNormalization\n",
    "from keras.layers.advanced_activations import LeakyReLU"
   ]
  },
  {
   "cell_type": "code",
   "execution_count": 3,
   "metadata": {},
   "outputs": [],
   "source": [
    "%matplotlib inline"
   ]
  },
  {
   "cell_type": "markdown",
   "metadata": {},
   "source": [
    "### Constants"
   ]
  },
  {
   "cell_type": "code",
   "execution_count": 4,
   "metadata": {},
   "outputs": [],
   "source": [
    "LANGUAGES_FOLDER = '/home/kolegor/Study/Master/Work/repo/LangIS/data/wav/'\n",
    "LANGUAGES_LIST = os.listdir(LANGUAGES_FOLDER)\n",
    "LANGUAGE_FOLDER_TEMPLATE = '/home/kolegor/Study/Master/Work/repo/LangIS/data/wav/{}/'\n",
    "TEST_LANGUAGE = LANGUAGES_LIST[0]\n",
    "TEST_WAVFILE_PATH = LANGUAGE_FOLDER_TEMPLATE.format(TEST_LANGUAGE) + os.listdir(LANGUAGES_FOLDER + LANGUAGES_LIST[0])[0]"
   ]
  },
  {
   "cell_type": "code",
   "execution_count": 5,
   "metadata": {},
   "outputs": [],
   "source": [
    "MAP_LABEL_TO_LANGUAGE = dict(enumerate(LANGUAGES_LIST))\n",
    "MAP_LANGUAGE_TO_LABEL = dict(zip(LANGUAGES_LIST, range(len(LANGUAGES_LIST))))"
   ]
  },
  {
   "cell_type": "code",
   "execution_count": 6,
   "metadata": {},
   "outputs": [],
   "source": [
    "ONE_LANGUAGE_FILES_COUNT = 100"
   ]
  },
  {
   "cell_type": "markdown",
   "metadata": {},
   "source": [
    "### Wav file wrapper"
   ]
  },
  {
   "cell_type": "code",
   "execution_count": 7,
   "metadata": {},
   "outputs": [],
   "source": [
    "class WavFile(object):\n",
    "    SAMPLE_SIZE = {\n",
    "        1: np.int8,\n",
    "        2: np.int16,\n",
    "        4: np.int32\n",
    "    }\n",
    "    \n",
    "    def __init__(self, wav_path):\n",
    "        self.wav = wave.open(wav_path, 'r')\n",
    "\n",
    "        params = self.wav.getparams()\n",
    "\n",
    "        self.n_channels = params[0]\n",
    "        self.sample_size = params[1]\n",
    "        self.sample_rate = params[2]\n",
    "        self.n_frames = params[3]\n",
    "\n",
    "        frames = self.wav.readframes(self.n_frames)\n",
    "        self.bytes = np.fromstring(frames, dtype=WavFile.SAMPLE_SIZE[self.sample_size])\n",
    "    \n",
    "    def __str__(self):\n",
    "        return 'Channels (count): {}\\nSample size (bytes): {}\\nFrame rate (Hz): {}\\nFrames (count): {}'.format(\n",
    "            self.n_channels, self.sample_size, self.sample_rate, self.n_frames\n",
    "        )\n",
    "    \n",
    "    def __repr__(self):\n",
    "        return self.__str__()"
   ]
  },
  {
   "cell_type": "markdown",
   "metadata": {},
   "source": [
    "### Features"
   ]
  },
  {
   "cell_type": "code",
   "execution_count": 8,
   "metadata": {},
   "outputs": [],
   "source": [
    "class Config(object):\n",
    "    def __init__(self):\n",
    "        self.n_mfcc = 13\n",
    "        self.frame_length_sec = 0.025\n",
    "        self.frame_shift_sec = 0.01\n",
    "        self.min_freq = 0\n",
    "        self.max_freq = 5000\n",
    "        self.n_mels_spec = 39\n",
    "\n",
    "\n",
    "cnf = Config()"
   ]
  },
  {
   "cell_type": "code",
   "execution_count": 9,
   "metadata": {},
   "outputs": [],
   "source": [
    "def mfcc(values, sample_rate, frame_length=cnf.frame_length_sec, frame_shift=cnf.frame_shift_sec, n_mfcc=cnf.n_mfcc):\n",
    "    return librosa.feature.mfcc(\n",
    "        y=values,\n",
    "        sr=sample_rate,\n",
    "        n_mfcc=n_mfcc,\n",
    "        n_fft=int(frame_length * sample_rate),\n",
    "        hop_length=int(frame_shift * sample_rate),\n",
    "        fmin=cnf.min_freq,\n",
    "        fmax=cnf.max_freq\n",
    "    ).T\n",
    "\n",
    "\n",
    "def mfcc_delta(mfccs):\n",
    "    return librosa.feature.delta(mfccs, axis=0)\n",
    "\n",
    "\n",
    "def mfcc_delta_delta(mfccs_delta):\n",
    "    return librosa.feature.delta(mfccs_delta, axis=0)"
   ]
  },
  {
   "cell_type": "code",
   "execution_count": 10,
   "metadata": {},
   "outputs": [],
   "source": [
    "def spectrogram(values, sample_rate, frame_length=cnf.frame_length_sec, frame_shift=cnf.frame_shift_sec, n_mels=cnf.n_mels_spec):\n",
    "    return librosa.feature.melspectrogram(\n",
    "        y=values,\n",
    "        sr=sample_rate,\n",
    "        n_fft=int(frame_length * sample_rate),\n",
    "        hop_length=int(frame_shift * sample_rate),\n",
    "        fmin=MIN_FREQ,\n",
    "        fmax=MAX_FREQ,\n",
    "        n_mels=n_mels\n",
    "    ).T"
   ]
  },
  {
   "cell_type": "markdown",
   "metadata": {},
   "source": [
    "### Data loading"
   ]
  },
  {
   "cell_type": "code",
   "execution_count": 11,
   "metadata": {},
   "outputs": [],
   "source": [
    "def load_language(language_id):\n",
    "    language_folder = LANGUAGE_FOLDER_TEMPLATE.format(language_id)\n",
    "    language_wavs = []\n",
    "\n",
    "    for i, filename in enumerate(os.listdir(language_folder)):\n",
    "        filepath = language_folder + filename\n",
    "        wav_file = WavFile(TEST_WAVFILE_PATH)\n",
    "        language_wavs.append(wav_file)\n",
    "\n",
    "        if i + 1 == ONE_LANGUAGE_FILES_COUNT:\n",
    "            break\n",
    "    \n",
    "    return language_wavs"
   ]
  },
  {
   "cell_type": "code",
   "execution_count": 12,
   "metadata": {},
   "outputs": [],
   "source": [
    "def load(languages_list):\n",
    "    languages_data = dict()\n",
    "    for language_id in languages_list:\n",
    "        cur_language_wavs = load_language(language_id)\n",
    "        languages_data[language_id] = cur_language_wavs\n",
    "    return languages_data"
   ]
  },
  {
   "cell_type": "markdown",
   "metadata": {},
   "source": [
    "### Prepare data (load and extract features)"
   ]
  },
  {
   "cell_type": "code",
   "execution_count": 13,
   "metadata": {},
   "outputs": [],
   "source": [
    "def get_one_wav_file_features(wav_file):\n",
    "    mfccs = mfcc(wav_file.bytes, wav_file.sample_rate)\n",
    "    mfccs_d = mfcc_delta(mfccs)\n",
    "    mfccs_dd = mfcc_delta_delta(mfccs_d)\n",
    "    return np.hstack((mfccs, mfccs_d, mfccs_dd))"
   ]
  },
  {
   "cell_type": "code",
   "execution_count": 14,
   "metadata": {},
   "outputs": [],
   "source": [
    "def split_train_test(X, y, train_size=0.7):\n",
    "    combined_by_label = collections.defaultdict(list)\n",
    "    for features, label in zip(X, y):\n",
    "        combined_by_label[label].append(features)\n",
    "    \n",
    "    train_feature_label_pairs = list()\n",
    "    test_feature_label_pairs = list()\n",
    "    \n",
    "    for label, all_features in combined_by_label.iteritems():\n",
    "        random.shuffle(all_features)\n",
    "        border = int(train_size * len(all_features))\n",
    "        \n",
    "        train_feature_label_pairs.extend((f, label) for f in all_features[:border])\n",
    "        test_feature_label_pairs.extend((f, label) for f in all_features[border + 1:])\n",
    "    \n",
    "    X_train, y_train, X_test, y_test = list(), list(), list(), list()\n",
    "\n",
    "    # shuffle train and test\n",
    "    random.shuffle(test_feature_label_pairs)\n",
    "    for features, label in train_feature_label_pairs:\n",
    "        X_train.append(features)\n",
    "        y_train.append(label)\n",
    "    \n",
    "    random.shuffle(train_feature_label_pairs)\n",
    "    for features, label in test_feature_label_pairs:\n",
    "        X_test.append(features)\n",
    "        y_test.append(label)\n",
    "\n",
    "    return X_train, y_train, X_test, y_test"
   ]
  },
  {
   "cell_type": "code",
   "execution_count": 15,
   "metadata": {},
   "outputs": [],
   "source": [
    "def prepare(languages_list):\n",
    "    languages_wav_files = load(languages_list)\n",
    "\n",
    "    X, y = [], []\n",
    "\n",
    "    for language_id, wav_files in languages_wav_files.iteritems():\n",
    "        y_label = MAP_LANGUAGE_TO_LABEL[language_id]\n",
    "        for wav_file in wav_files:\n",
    "            features = get_one_wav_file_features(wav_file)\n",
    "            \n",
    "            X.append(features)\n",
    "            y.append(y_label)\n",
    "\n",
    "    return X, y"
   ]
  },
  {
   "cell_type": "code",
   "execution_count": 16,
   "metadata": {},
   "outputs": [
    {
     "name": "stdout",
     "output_type": "stream",
     "text": [
      "200 (638, 39)\n"
     ]
    }
   ],
   "source": [
    "X, y = prepare(['it', 'pt'])  # LANGUAGES_LIST[:2])\n",
    "print len(X), X[0].shape"
   ]
  },
  {
   "cell_type": "code",
   "execution_count": 17,
   "metadata": {},
   "outputs": [
    {
     "name": "stdout",
     "output_type": "stream",
     "text": [
      "140 58\n"
     ]
    }
   ],
   "source": [
    "X_train, y_train, X_test, y_test = split_train_test(X, y)\n",
    "print len(X_train), len(X_test)"
   ]
  },
  {
   "cell_type": "markdown",
   "metadata": {},
   "source": [
    "### ML models"
   ]
  },
  {
   "cell_type": "code",
   "execution_count": 91,
   "metadata": {},
   "outputs": [],
   "source": [
    "class NN(object):\n",
    "    def __init__(self, input_shape, num_classes):\n",
    "        self.model = Sequential()\n",
    "        self.model.add(Conv2D(32, kernel_size=(3, 3), activation='linear', input_shape=input_shape, padding='same'))\n",
    "        self.model.add(LeakyReLU(alpha=0.1))\n",
    "        self.model.add(MaxPooling2D((2, 2), padding='same'))\n",
    "        self.model.add(Conv2D(64, (3, 3), activation='linear', padding='same'))\n",
    "        self.model.add(LeakyReLU(alpha=0.1))\n",
    "        self.model.add(MaxPooling2D(pool_size=(2, 2), padding='same'))\n",
    "        self.model.add(Conv2D(128, (3, 3), activation='linear', padding='same'))\n",
    "        self.model.add(LeakyReLU(alpha=0.1))                  \n",
    "        self.model.add(MaxPooling2D(pool_size=(2, 2), padding='same'))\n",
    "        self.model.add(Flatten())\n",
    "        self.model.add(Dense(128, activation='linear'))\n",
    "        self.model.add(LeakyReLU(alpha=0.1))                  \n",
    "        self.model.add(Dense(num_classes, activation='softmax'))\n",
    "        \n",
    "        self.model.compile(\n",
    "            loss=keras.losses.categorical_crossentropy,\n",
    "            optimizer=keras.optimizers.Adam(),\n",
    "            metrics=['accuracy']\n",
    "        )\n",
    "        # print self.model.summary()\n",
    "    \n",
    "    def fit(self, X_train, y_train, batch_size=64, epochs=10):\n",
    "        self.model.fit(\n",
    "            X_train, y_train,\n",
    "            batch_size=batch_size,\n",
    "            epochs=epochs,\n",
    "            verbose=1,\n",
    "            # validation_data=(valid_X, valid_label)\n",
    "        )\n",
    "\n",
    "    \n",
    "    def evaluate(self, X_test, y_test):\n",
    "        return self.model.evaluate(X_test, y_test, verbose=0)"
   ]
  },
  {
   "cell_type": "code",
   "execution_count": 97,
   "metadata": {},
   "outputs": [],
   "source": [
    "def remake_X(X):\n",
    "    qwe = np.array(X)\n",
    "    return np.reshape(qwe, qwe.shape + (1,))\n",
    "\n",
    "def remake_y(Y):\n",
    "    mapper = dict(zip(set(y_train), range(len(set(Y)))))\n",
    "    return np.array([(1, 0) if mapper[y] == 0 else (0, 1) for y in Y])"
   ]
  },
  {
   "cell_type": "code",
   "execution_count": 98,
   "metadata": {},
   "outputs": [],
   "source": [
    "X_train_remake, y_train_remake = remake_X(X_train), remake_y(y_train)\n",
    "X_test_remake, y_test_remake = remake_X(X_test), remake_y(y_test)"
   ]
  },
  {
   "cell_type": "code",
   "execution_count": 92,
   "metadata": {},
   "outputs": [],
   "source": [
    "nnm = NN(input_shape=(638, 39, 1), num_classes=2)"
   ]
  },
  {
   "cell_type": "code",
   "execution_count": 100,
   "metadata": {},
   "outputs": [
    {
     "name": "stdout",
     "output_type": "stream",
     "text": [
      "Epoch 1/2\n",
      "140/140 [==============================] - 9s 62ms/step - loss: 8.0590 - acc: 0.5000\n",
      "Epoch 2/2\n",
      "140/140 [==============================] - 8s 60ms/step - loss: 8.0590 - acc: 0.5000\n"
     ]
    }
   ],
   "source": [
    "nnm.fit(X_train_remade, y_train_remade, epochs=2)"
   ]
  },
  {
   "cell_type": "code",
   "execution_count": 102,
   "metadata": {},
   "outputs": [
    {
     "name": "stdout",
     "output_type": "stream",
     "text": [
      "('Test loss:', 8.0590477976305728)\n",
      "('Test accuracy:', 0.49999999794466743)\n"
     ]
    }
   ],
   "source": [
    "test_eval = nnm.evaluate(X_test_remake, y_test_remake)\n",
    "print('Test loss:', test_eval[0])\n",
    "print('Test accuracy:', test_eval[1])"
   ]
  },
  {
   "cell_type": "markdown",
   "metadata": {},
   "source": [
    "### Run tests"
   ]
  },
  {
   "cell_type": "code",
   "execution_count": 42,
   "metadata": {},
   "outputs": [
    {
     "name": "stdout",
     "output_type": "stream",
     "text": [
      "Channels (count): 1\n",
      "Sample size (bytes): 2\n",
      "Frame rate (Hz): 48000\n",
      "Frames (count): 306000 [110 122 120 ...,  45  52  59]\n"
     ]
    }
   ],
   "source": [
    "wav_file = WavFile(TEST_WAVFILE_PATH)\n",
    "print wav_file, wav_file.bytes"
   ]
  },
  {
   "cell_type": "code",
   "execution_count": 39,
   "metadata": {},
   "outputs": [],
   "source": [
    "qwe = spectrogram(wav_file.bytes, wav_file.sample_rate)"
   ]
  },
  {
   "cell_type": "code",
   "execution_count": 123,
   "metadata": {},
   "outputs": [],
   "source": [
    "mfccs = mfcc(wav_file.bytes, wav_file.framerate)\n",
    "mfccs_d = mfcc_delta(mfccs)\n",
    "mfccs_dd = mfcc_delta_delta(mfccs_d)\n",
    "print mfccs.shape, mfccs_d.shape, mfccs_dd.shape"
   ]
  },
  {
   "cell_type": "code",
   "execution_count": 129,
   "metadata": {},
   "outputs": [
    {
     "data": {
      "text/plain": [
       "array([ 432.05712026,   52.29930026,   12.09182029,   11.49087919,\n",
       "          5.39945342,   35.74448741,   29.28330591,    4.74748869,\n",
       "         -2.49883588,   13.88058917,   13.12185477,   -4.84476764,\n",
       "        -18.20271413])"
      ]
     },
     "execution_count": 129,
     "metadata": {},
     "output_type": "execute_result"
    }
   ],
   "source": [
    "mfccs[0]"
   ]
  },
  {
   "cell_type": "code",
   "execution_count": 130,
   "metadata": {},
   "outputs": [
    {
     "data": {
      "text/plain": [
       "array([ 3.42088285,  0.28187383, -0.11280747,  0.59703594,  0.8517748 ,\n",
       "       -2.96188816, -4.99040002,  0.15025697,  2.26703505, -0.13830081,\n",
       "       -1.23693085,  1.12152547,  4.60190175])"
      ]
     },
     "execution_count": 130,
     "metadata": {},
     "output_type": "execute_result"
    }
   ],
   "source": [
    "mfccs_d[0]"
   ]
  },
  {
   "cell_type": "code",
   "execution_count": 131,
   "metadata": {},
   "outputs": [
    {
     "data": {
      "text/plain": [
       "array([-0.24010707,  0.05888751, -0.1872149 ,  0.12102598,  0.04666345,\n",
       "        0.17749048,  0.18754179, -0.28923803, -0.10040412,  0.2115827 ,\n",
       "        0.16532077,  0.17607055, -0.1879921 ])"
      ]
     },
     "execution_count": 131,
     "metadata": {},
     "output_type": "execute_result"
    }
   ],
   "source": [
    "mfccs_dd[0]"
   ]
  },
  {
   "cell_type": "code",
   "execution_count": null,
   "metadata": {},
   "outputs": [],
   "source": []
  }
 ],
 "metadata": {
  "kernelspec": {
   "display_name": "Python 2",
   "language": "python",
   "name": "python2"
  },
  "language_info": {
   "codemirror_mode": {
    "name": "ipython",
    "version": 2
   },
   "file_extension": ".py",
   "mimetype": "text/x-python",
   "name": "python",
   "nbconvert_exporter": "python",
   "pygments_lexer": "ipython2",
   "version": "2.7.12"
  }
 },
 "nbformat": 4,
 "nbformat_minor": 2
}
