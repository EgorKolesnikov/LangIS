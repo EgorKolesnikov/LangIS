{
 "cells": [
  {
   "cell_type": "markdown",
   "metadata": {},
   "source": [
    "## http://www.loyalbooks.com/language-menu"
   ]
  },
  {
   "cell_type": "code",
   "execution_count": 1,
   "metadata": {},
   "outputs": [],
   "source": [
    "from bs4 import BeautifulSoup\n",
    "from urllib import urlopen\n",
    "import os\n",
    "import requests, zipfile, StringIO\n",
    "import shutil"
   ]
  },
  {
   "cell_type": "code",
   "execution_count": 2,
   "metadata": {},
   "outputs": [],
   "source": [
    "def create_folder(path):\n",
    "    if not os.path.exists(path):\n",
    "        os.makedirs(path)"
   ]
  },
  {
   "cell_type": "markdown",
   "metadata": {},
   "source": [
    "### Parse main page and get all languages"
   ]
  },
  {
   "cell_type": "code",
   "execution_count": 3,
   "metadata": {},
   "outputs": [],
   "source": [
    "def load_page_soup(url):\n",
    "    html = urlopen(url).read()\n",
    "    soup = BeautifulSoup(html, 'lxml')\n",
    "    return soup"
   ]
  },
  {
   "cell_type": "code",
   "execution_count": 4,
   "metadata": {},
   "outputs": [],
   "source": [
    "BASE = u'http://www.loyalbooks.com/'\n",
    "LANGUAGES_PAGE = BASE + 'language-menu'"
   ]
  },
  {
   "cell_type": "code",
   "execution_count": 5,
   "metadata": {},
   "outputs": [],
   "source": [
    "soup = load_page_soup(LANGUAGES_PAGE)\n",
    "table = soup.find_all(\"table\", {\"class\": \"link\"})[0]\n",
    "links = table.find_all('a')"
   ]
  },
  {
   "cell_type": "code",
   "execution_count": 6,
   "metadata": {},
   "outputs": [],
   "source": [
    "class LanguageFolder(object):\n",
    "    def __init__(self, uid, href, name):\n",
    "        self.uid = uid\n",
    "        self.href = href\n",
    "        self.name = name"
   ]
  },
  {
   "cell_type": "code",
   "execution_count": 7,
   "metadata": {},
   "outputs": [],
   "source": [
    "def get_languages_folders():\n",
    "    language_by_name = dict()\n",
    "\n",
    "    for a in links:\n",
    "        uid = a.find_all('div')[0]['id']\n",
    "        lang_folder = LanguageFolder(uid, a['href'], a.text)\n",
    "        language_by_name[a.text] = lang_folder\n",
    "\n",
    "    return language_by_name"
   ]
  },
  {
   "cell_type": "code",
   "execution_count": 8,
   "metadata": {},
   "outputs": [
    {
     "name": "stdout",
     "output_type": "stream",
     "text": [
      "29\n"
     ]
    }
   ],
   "source": [
    "language_by_name = get_languages_folders()\n",
    "print len(language_by_name)"
   ]
  },
  {
   "cell_type": "markdown",
   "metadata": {},
   "source": [
    "### Parse each language page and get specified amount of books"
   ]
  },
  {
   "cell_type": "code",
   "execution_count": 9,
   "metadata": {},
   "outputs": [],
   "source": [
    "class BookLink(object):\n",
    "    def __init__(self, url, lang_folder):\n",
    "        self.url = url\n",
    "        self.lang_folder = lang_folder"
   ]
  },
  {
   "cell_type": "code",
   "execution_count": 10,
   "metadata": {},
   "outputs": [],
   "source": [
    "def get_table_books_urls(soup_table, lang_folder, max_count=3):\n",
    "    rows = soup_table.find_all(\"tr\")\n",
    "    book_links = []\n",
    "    \n",
    "    for row in rows:\n",
    "        if len(book_links) >= max_count:\n",
    "            break\n",
    "\n",
    "        cells = row.find_all('td')\n",
    "        unique_urls = set()\n",
    "        \n",
    "        if not cells:\n",
    "            continue\n",
    "        \n",
    "        for cell in cells:\n",
    "            if cell.has_attr('colspan'):\n",
    "                continue\n",
    "            \n",
    "            links = cell.find_all('a')\n",
    "            if not links:\n",
    "                continue\n",
    "\n",
    "            for link in links:\n",
    "                unique_urls.add(link['href'])\n",
    "        \n",
    "        for href in unique_urls:\n",
    "            if len(book_links) >= max_count:\n",
    "                break\n",
    "            book_links.append(BookLink(href, lang_folder))\n",
    "\n",
    "    return book_links\n",
    "\n",
    "\n",
    "def get_language_books_links(lang_folder, max_count=3):\n",
    "    language_books_url = BASE + lang_folder.href\n",
    "    lang_soup = load_page_soup(language_books_url)\n",
    "    \n",
    "    tables = lang_soup.find_all(\"table\", {\"summary\": \"Audio books\", \"class\": 'layout2-blue'})\n",
    "    \n",
    "    if len(tables) > 1:\n",
    "        raise Exception(u'Found more than one table \"{}\"'.format(language_books_url))\n",
    "\n",
    "    return get_table_books_urls(tables[0], lang_folder, max_count=max_count)"
   ]
  },
  {
   "cell_type": "code",
   "execution_count": 11,
   "metadata": {
    "scrolled": true
   },
   "outputs": [
    {
     "name": "stdout",
     "output_type": "stream",
     "text": [
      "26\n"
     ]
    }
   ],
   "source": [
    "exclude = ['Multilingual', 'Old English', 'Church Slavonic']\n",
    "books_by_language = dict()\n",
    "max_books = 5\n",
    "\n",
    "for name, lang_folder in language_by_name.iteritems():\n",
    "    if name in exclude:\n",
    "        continue\n",
    "\n",
    "    books_links = get_language_books_links(lang_folder, max_count=max_books)\n",
    "    books_by_language[name] = books_links\n",
    "\n",
    "print len(books_by_language)"
   ]
  },
  {
   "cell_type": "markdown",
   "metadata": {},
   "source": [
    "### Download languages collected books"
   ]
  },
  {
   "cell_type": "code",
   "execution_count": 12,
   "metadata": {},
   "outputs": [],
   "source": [
    "FOLDER_TO_SAVE_ZIPS = '/home/kolegor/Downloads/audiobooks/zips/'\n",
    "FOLDER_TO_SAVE_MP3 = '/home/kolegor/Downloads/audiobooks/mp3/'\n",
    "ZIP_LANGUAGE_FOLDER_TEMPLATE = FOLDER_TO_SAVE_ZIPS + '{language}/'\n",
    "MP3_LANGUAGE_FOLDER_TEMPLATE = FOLDER_TO_SAVE_MP3 + '{language}/'"
   ]
  },
  {
   "cell_type": "code",
   "execution_count": 13,
   "metadata": {},
   "outputs": [],
   "source": [
    "def load_and_save_zip(url, save_folder):\n",
    "    r = requests.get(url, stream=True)\n",
    "\n",
    "    name = url.split('/')[-1]\n",
    "    zip_path = save_folder + name\n",
    "\n",
    "    if not os.path.exists(zip_path):\n",
    "        shutil.copyfileobj(r.raw, open(zip_path, \"wb\"))    \n",
    "\n",
    "    return zipfile.ZipFile(zip_path)"
   ]
  },
  {
   "cell_type": "code",
   "execution_count": 13,
   "metadata": {},
   "outputs": [],
   "source": [
    "def unpack_book_zip(zip_file, unpack_to):\n",
    "    count_unpacked = 0\n",
    "\n",
    "    for name in zip_file.namelist():\n",
    "        if name.endswith('/'):\n",
    "            continue\n",
    "        if not name.endswith('.mp3') and not name.endswith('.wav'):\n",
    "            continue\n",
    "\n",
    "        filename = name.replace('/', '__')\n",
    "        full_path = unpack_to + filename\n",
    "\n",
    "        content = zip_file.open(name).read()\n",
    "        with open(full_path, 'w') as outf:\n",
    "            outf.write(content)     \n",
    "        \n",
    "        count_unpacked += 1\n",
    "    \n",
    "    return count_unpacked\n",
    "\n",
    "\n",
    "def get_book_download_url(book_url):\n",
    "    book_soup = load_page_soup(book_url)\n",
    "    table = book_soup.find_all('table', {'summary': 'Audiobook downloads'})[0]\n",
    "    all_download_links = table.find_all('a', {'class': 'download'})\n",
    "    \n",
    "    zip_link = None\n",
    "\n",
    "    for link in all_download_links:\n",
    "        if link['href'].endswith('.zip'):\n",
    "            zip_link = link['href']\n",
    "    \n",
    "    return zip_link\n",
    "\n",
    "\n",
    "def download_language_books(lang_folder, collected_books):\n",
    "    zip_folder = ZIP_LANGUAGE_FOLDER_TEMPLATE.format(language=lang_folder.name)\n",
    "    create_folder(zip_folder)\n",
    "\n",
    "    mp3_folder = MP3_LANGUAGE_FOLDER_TEMPLATE.format(language=lang_folder.name)\n",
    "    create_folder(mp3_folder)\n",
    "    \n",
    "    count_loaded_books = 0\n",
    "    count_loaded_mp3 = 0\n",
    "\n",
    "    for i, book in enumerate(collected_books):\n",
    "        book_url = BASE + book.url\n",
    "        \n",
    "        try:\n",
    "            download_link = get_book_download_url(book_url)\n",
    "        except:\n",
    "            print u' !!! EXCEPTION ON PAGE LOAD {}'.format(book_url)\n",
    "            continue\n",
    "        \n",
    "        if download_link is None:\n",
    "            continue\n",
    "\n",
    "        print '\\n - Loading book {}/{} ({})'.format(\n",
    "            i + 1,\n",
    "            len(collected_books),\n",
    "            download_link.replace('http://www.archive.org/download/', '')\n",
    "        )\n",
    "        zip_file = load_and_save_zip(download_link, zip_folder)\n",
    "\n",
    "        print u' - Unpacking to {}'.format(mp3_folder)\n",
    "        count_files = unpack_book_zip(zip_file, mp3_folder)\n",
    "        print u' - Unpacked {} files'.format(count_files)\n",
    "        \n",
    "        count_loaded_books += 1\n",
    "        count_loaded_mp3 += count_files\n",
    "\n",
    "    return count_loaded_books, count_loaded_mp3"
   ]
  },
  {
   "cell_type": "code",
   "execution_count": 7,
   "metadata": {},
   "outputs": [],
   "source": [
    "def run_download():\n",
    "    total_books = 0\n",
    "    total_mp3s = 0\n",
    "\n",
    "    already_done = [\n",
    "        'Swedish',\n",
    "        'Tagalog',\n",
    "        'Javanese',\n",
    "        'Ancient Greek',\n",
    "        'Dutch',\n",
    "        'Danish',\n",
    "        'Bulgarian',\n",
    "        'Latin',\n",
    "        'Hungarian',\n",
    "        'French',\n",
    "        'Russian',\n",
    "        'Tamil',\n",
    "        'Finnish',\n",
    "        'Hebrew',\n",
    "        'Greek',\n",
    "        'Latvian',\n",
    "        'English',\n",
    "        'Italian',\n",
    "        'Portuguese',\n",
    "        'Chinese',\n",
    "    ]\n",
    "\n",
    "    for i, (lang_name, collected_books) in enumerate(books_by_language.iteritems()):\n",
    "        print '\\n {}/{} {}'.format(i + 1, len(books_by_language), lang_name)\n",
    "\n",
    "        if lang_name in already_done:\n",
    "            print ' - Skip'\n",
    "            continue\n",
    "\n",
    "        for book in collected_books:\n",
    "            print book.url\n",
    "\n",
    "        # lang_folder = language_by_name[lang_name]\n",
    "        # loaded_books, loaded_mp3s = download_language_books(lang_folder, collected_books)\n",
    "\n",
    "        # total_books += loaded_books\n",
    "        # total_mp3s += loaded_mp3s\n",
    "\n",
    "    print u'\\n\\nTotal books: {}'.format(total_books)\n",
    "    print u'Total mp3s: {}'.format(total_mp3s)"
   ]
  },
  {
   "cell_type": "markdown",
   "metadata": {},
   "source": [
    "### Only unpack"
   ]
  },
  {
   "cell_type": "code",
   "execution_count": 5,
   "metadata": {},
   "outputs": [],
   "source": [
    "def unpack_zips(zips_folder, mp3s_folder):\n",
    "    for folder_name in os.listdir(zips_folder):\n",
    "        print folder_name\n",
    "\n",
    "        in_mp3_folder = mp3s_folder + folder_name + '/'\n",
    "        in_zip_folder = zips_folder + folder_name + '/'\n",
    "\n",
    "        create_folder(in_mp3_folder)\n",
    "\n",
    "        for zip_name in os.listdir(in_zip_folder):\n",
    "            full_zip_path = in_zip_folder + zip_name\n",
    "            zip_file = zipfile.ZipFile(full_zip_path)\n",
    "\n",
    "            print ' -', zip_name\n",
    "            unpack_book_zip(zip_file, in_mp3_folder)"
   ]
  },
  {
   "cell_type": "code",
   "execution_count": 6,
   "metadata": {
    "scrolled": true
   },
   "outputs": [],
   "source": [
    "zips_folder = '/home/kolegor/Downloads/audiobooks/zips/'\n",
    "mp3s_folder = '/home/kolegor/Downloads/audiobooks/mp3/'\n",
    "\n",
    "# unpack_zips(zips_folder, mp3s_folder)"
   ]
  }
 ],
 "metadata": {
  "kernelspec": {
   "display_name": "hrdb-env",
   "language": "python",
   "name": "hrdb-env"
  },
  "language_info": {
   "codemirror_mode": {
    "name": "ipython",
    "version": 2
   },
   "file_extension": ".py",
   "mimetype": "text/x-python",
   "name": "python",
   "nbconvert_exporter": "python",
   "pygments_lexer": "ipython2",
   "version": "2.7.12"
  }
 },
 "nbformat": 4,
 "nbformat_minor": 2
}
