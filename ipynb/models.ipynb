{
 "cells": [
  {
   "cell_type": "code",
   "execution_count": 1,
   "metadata": {},
   "outputs": [
    {
     "name": "stderr",
     "output_type": "stream",
     "text": [
      "Using TensorFlow backend.\n"
     ]
    }
   ],
   "source": [
    "import numpy as np\n",
    "import IPython.display\n",
    "import librosa\n",
    "import librosa.display\n",
    "import matplotlib.pyplot as plt\n",
    "import os\n",
    "import shutil\n",
    "from random import shuffle\n",
    "import keras\n",
    "from keras.datasets import mnist\n",
    "from keras.models import Sequential\n",
    "from keras.layers import Dense, Dropout, Flatten\n",
    "from keras.layers import Conv2D, MaxPooling2D\n",
    "from keras import backend as K\n",
    "import numpy as np\n",
    "import matplotlib.pyplot as plt\n",
    "import matplotlib.image as mpimg\n",
    "from keras.utils import np_utils\n",
    "%matplotlib inline"
   ]
  },
  {
   "cell_type": "code",
   "execution_count": 2,
   "metadata": {},
   "outputs": [],
   "source": [
    "def rgb2gray(rgb):\n",
    "    return np.dot(rgb[...,:3], [0.299, 0.587, 0.114])\n",
    "\n",
    "def read_png(path):\n",
    "    img = mpimg.imread(path)\n",
    "    return rgb2gray(img)"
   ]
  },
  {
   "cell_type": "markdown",
   "metadata": {},
   "source": [
    "### Feature File Manager"
   ]
  },
  {
   "cell_type": "code",
   "execution_count": 16,
   "metadata": {},
   "outputs": [],
   "source": [
    "class SpectrogramFeatureFileManager(object):\n",
    "    def __init__(self, seconds=10, skip_augment=False):\n",
    "        self.seconds = seconds\n",
    "        self.skip_augment = skip_augment\n",
    "\n",
    "    def get_file_credentials(self, path):\n",
    "        values = path.split('#')[-1].split('.')[0]\n",
    "        sr, winlen, winstep = map(int, values.split('='))\n",
    "        return sr, winlen, winstep\n",
    "\n",
    "    def load(self, path):\n",
    "        \"\"\" Return list of objects, ectracted from given file \"\"\"\n",
    "        if self.skip_augment and u'#AUG#' in path:\n",
    "            return []\n",
    "\n",
    "        file_data = read_png(path)\n",
    "\n",
    "        sr, winlen, winstep = self.get_file_credentials(path)\n",
    "        one_sec_count = sr / winstep\n",
    "        chunk_size = one_sec_count * self.seconds\n",
    "\n",
    "        height, width = file_data.shape\n",
    "        \n",
    "        # print file_data.shape, width, sr, winlen, winstep\n",
    "        # print one_sec_count, chunk_size\n",
    "        \n",
    "        if width < chunk_size:\n",
    "            return []\n",
    "        \n",
    "        result = []\n",
    "        \n",
    "        chunks = (width + chunk_size - 1) / chunk_size\n",
    "        for chunk in xrange(chunks):\n",
    "            start = (chunk * chunk_size)\n",
    "            end = min(file_data.shape[1], (chunk + 1) * chunk_size)\n",
    "            \n",
    "            if end - start < chunk_size:\n",
    "                break\n",
    "\n",
    "            result.append(file_data[:, start:end])\n",
    "\n",
    "        return result"
   ]
  },
  {
   "cell_type": "code",
   "execution_count": 4,
   "metadata": {},
   "outputs": [],
   "source": [
    "# path = '/home/kolegor/Study/Master/Work/data/features/spectrogram/ab_Russian/train/Leo-Tolstoy-Detstvo-RUSSIAN-24-V_posteli_64kb.mp3.wav.chunk018.png#24000=360=600.png'\n",
    "# manager = SpectrogramFeatureFileManager(seconds=3)\n",
    "# asd = manager.load(path)\n",
    "# len(asd)\n",
    "# librosa.display.specshow(read_png(path), sr=22050, x_axis='time', y_axis='mel')\n",
    "# plt.show()\n",
    "# for a in asd:\n",
    "#     librosa.display.specshow(a, sr=22050, x_axis='time', y_axis='mel')\n",
    "#     plt.show()"
   ]
  },
  {
   "cell_type": "markdown",
   "metadata": {},
   "source": [
    "### Dataset manager"
   ]
  },
  {
   "cell_type": "code",
   "execution_count": 17,
   "metadata": {},
   "outputs": [],
   "source": [
    "class FolderIterator(object):\n",
    "    PATH_TEMPLATE = '/home/kolegor/Study/Master/Work/data/features/spectrogram/{language}/{dataset}/'\n",
    "\n",
    "    def __init__(self, language, dataset, uid):\n",
    "        self.language = language\n",
    "        self.dataset = dataset\n",
    "        self.uid = uid\n",
    "\n",
    "        self.path = self.PATH_TEMPLATE.format(language=language, dataset=dataset)\n",
    "    \n",
    "    def get_data(self):\n",
    "        x = [os.path.join(self.path, filename) for filename in os.listdir(self.path)]\n",
    "        y = [self.uid for _ in xrange(len(x))]\n",
    "        return x, y"
   ]
  },
  {
   "cell_type": "code",
   "execution_count": 37,
   "metadata": {},
   "outputs": [],
   "source": [
    "class Dataset(object):\n",
    "    def __init__(self, folder_iterators, need_shuffle=True, manager=None):\n",
    "        self.folders = folder_iterators\n",
    "        \n",
    "        self.manager = manager\n",
    "        if self.manager is None:\n",
    "            self.manager = SpectrogramFeatureFileManager(\n",
    "                seconds=5,\n",
    "                skip_augment=False\n",
    "            )\n",
    "        \n",
    "        self.size_by_language = dict()\n",
    "        \n",
    "        self.all_x = []\n",
    "        self.all_y = []\n",
    "        \n",
    "        for folder in self.folders:\n",
    "            x, y = folder.get_data()\n",
    "            if len(x) != len(y):\n",
    "                raise Exception('What the hell?')\n",
    "            \n",
    "            self.all_x.extend(x)\n",
    "            self.all_y.extend(y)\n",
    "            self.size_by_language[folder.language] = len(x)\n",
    "        \n",
    "        if shuffle:\n",
    "            combined = zip(self.all_x, self.all_y)\n",
    "            shuffle(combined)\n",
    "            self.all_x, self.all_y = zip(*combined)\n",
    "        \n",
    "        self.classes = len(set(self.all_y))\n",
    "        self.size = len(self.all_x)\n",
    "\n",
    "    def one_sample(self):\n",
    "        qwe = []\n",
    "        while not qwe:\n",
    "            qwe = self.manager.load(self.all_x[0])\n",
    "            if qwe:\n",
    "                qwe = qwe[0]\n",
    "                break\n",
    "        return qwe\n",
    "\n",
    "\n",
    "def dataset_iterator(dataset, chunk_size, as_np=False, extend=True, y_categorical=True, iters=10):\n",
    "    for _ in xrange(iters):\n",
    "        cur_chunk_x = []\n",
    "        cur_chunk_y = []\n",
    "\n",
    "        for filepath, uid in zip(dataset.all_x, dataset.all_y):\n",
    "            loaded = dataset.manager.load(filepath)\n",
    "\n",
    "            cur_chunk_x.extend(loaded)\n",
    "            cur_chunk_y.extend([uid for _ in xrange(len(loaded))])\n",
    "\n",
    "            if len(cur_chunk_x) >= chunk_size:\n",
    "                to_return_x = cur_chunk_x[:chunk_size]\n",
    "                to_return_y = cur_chunk_y[:chunk_size]\n",
    "\n",
    "                cur_chunk_x = cur_chunk_x[chunk_size:]\n",
    "                cur_chunk_y = cur_chunk_y[chunk_size:]\n",
    "\n",
    "                if as_np:\n",
    "                    to_return_x = np.array(to_return_x)\n",
    "                    to_return_y = np.array(to_return_y)\n",
    "\n",
    "                if extend:\n",
    "                    to_return_x = to_return_x.reshape(to_return_x.shape + (1,))\n",
    "\n",
    "                if y_categorical:\n",
    "                    to_return_y = np_utils.to_categorical(to_return_y, dataset.classes)\n",
    "\n",
    "                yield to_return_x, to_return_y\n",
    "\n",
    "\n",
    "def load_all_dataset(dataset, as_np=False, extend=True, y_categorical=True):\n",
    "    all_x = []\n",
    "    all_y = []\n",
    "    \n",
    "    iterator = dataset_iterator(dataset, 32, as_np=False, extend=False, y_categorical=False)\n",
    "    for x, y in iterator:\n",
    "        all_x.extend(x)\n",
    "        all_y.extend(y)\n",
    "        \n",
    "    all_x = np.array(all_x)\n",
    "    all_y = np.array(all_y)\n",
    "    \n",
    "    if as_np:\n",
    "        all_x = np.array(all_x)\n",
    "        all_y = np.array(all_y)\n",
    "\n",
    "    if extend:\n",
    "        all_x = all_x.reshape(all_x.shape + (1,))\n",
    "\n",
    "    if y_categorical:\n",
    "        all_y = np_utils.to_categorical(all_y, dataset.classes)\n",
    "\n",
    "    return all_x, all_y"
   ]
  },
  {
   "cell_type": "code",
   "execution_count": 38,
   "metadata": {},
   "outputs": [],
   "source": [
    "def get_languages_dataset(languages):\n",
    "    language_to_uid = dict((b, a) for a, b in enumerate(languages))\n",
    "    train = Dataset([FolderIterator(language, 'train', language_to_uid[language]) for language in languages])\n",
    "    test = Dataset([FolderIterator(language, 'test', language_to_uid[language]) for language in languages])\n",
    "    dev = Dataset([FolderIterator(language, 'dev', language_to_uid[language]) for language in languages])\n",
    "    return train, test, dev, language_to_uid"
   ]
  },
  {
   "cell_type": "code",
   "execution_count": 39,
   "metadata": {},
   "outputs": [],
   "source": [
    "def print_languages_info(train_ds, test_ds, dev_ds):\n",
    "    print u'Languages: [{}]'.format(u' # '.join(train_ds.size_by_language.keys()))\n",
    "    print u'Classes: {}'.format(train_dataset.classes)\n",
    "    print u'Sizes: (train/test/dev): {}/{}/{}'.format(train_ds.size, test_ds.size, dev_ds.size)"
   ]
  },
  {
   "cell_type": "code",
   "execution_count": 40,
   "metadata": {},
   "outputs": [
    {
     "name": "stdout",
     "output_type": "stream",
     "text": [
      "Languages: [ab_Russian # ab_Portuguese # ab_German # ab_French # ab_English]\n",
      "Classes: 5\n",
      "Sizes: (train/test/dev): 45429/12992/6516\n"
     ]
    }
   ],
   "source": [
    "languages = ['ab_Portuguese', 'ab_Russian', 'ab_English', 'ab_French', 'ab_German']\n",
    "train_dataset, test_dataset, dev_dataset, language_to_uid = get_languages_dataset(languages)\n",
    "print_languages_info(train_dataset, test_dataset, dev_dataset)"
   ]
  },
  {
   "cell_type": "code",
   "execution_count": 41,
   "metadata": {},
   "outputs": [],
   "source": [
    "# dev_X, dev_Y = load_all_dataset(dev_dataset)"
   ]
  },
  {
   "cell_type": "markdown",
   "metadata": {},
   "source": [
    "### Model build"
   ]
  },
  {
   "cell_type": "code",
   "execution_count": 42,
   "metadata": {},
   "outputs": [],
   "source": [
    "def get_model(train_ds):\n",
    "    sample = train_ds.one_sample()\n",
    "    input_shape = (sample.shape[0], sample.shape[1], 1)\n",
    "    print input_shape\n",
    "    \n",
    "    pool_size=(2, 2)\n",
    "\n",
    "    model = Sequential()\n",
    "    model.add(Conv2D(32, (7, 7), activation='relu', input_shape=input_shape))\n",
    "    model.add(MaxPooling2D(pool_size=pool_size))\n",
    "    model.add(Conv2D(64, (5, 5), activation='relu'))\n",
    "    model.add(MaxPooling2D(pool_size=pool_size))\n",
    "    model.add(Conv2D(64, (3, 3), activation='relu'))\n",
    "    model.add(MaxPooling2D(pool_size=pool_size))\n",
    "    model.add(Conv2D(128, (3, 3), activation='relu'))\n",
    "    model.add(MaxPooling2D(pool_size=pool_size))\n",
    "    \n",
    "    # print model.summary()\n",
    "    # model.add(Conv2D(256, (3, 3), activation='relu'))\n",
    "    # model.add(MaxPooling2D(pool_size=(2, 2)))\n",
    "\n",
    "    model.add(Flatten())\n",
    "    model.add(Dense(512, activation='relu'))\n",
    "    model.add(Dense(train_ds.classes, activation='softmax'))\n",
    "    model.compile(loss='categorical_crossentropy', optimizer='adam', metrics=['accuracy'])\n",
    "    return model"
   ]
  },
  {
   "cell_type": "code",
   "execution_count": 43,
   "metadata": {},
   "outputs": [
    {
     "name": "stdout",
     "output_type": "stream",
     "text": [
      "(128, 200, 1)\n"
     ]
    }
   ],
   "source": [
    "model = get_model(train_dataset)"
   ]
  },
  {
   "cell_type": "code",
   "execution_count": 44,
   "metadata": {},
   "outputs": [],
   "source": [
    "def fit(model, X_train=None, Y_train=None, X_dev=None, Y_dev=None):\n",
    "    batch_size = 32\n",
    "    epochs = 4\n",
    "    \n",
    "    if X_train is None and Y_train is None:\n",
    "        print 'Loading train data'\n",
    "        X_train, Y_train = load_all_dataset(train_dataset)\n",
    "    \n",
    "    if X_dev is None and Y_dev is None:\n",
    "        print 'Loading dev data'\n",
    "        X_dev, Y_dev = load_all_dataset(dev_dataset)\n",
    "\n",
    "    return model.fit(\n",
    "        x=X_train,\n",
    "        y=Y_train,\n",
    "        batch_size=batch_size,\n",
    "        epochs=epochs,\n",
    "        validation_data=(X_dev, Y_dev),\n",
    "    )\n",
    "\n",
    "\n",
    "def fit_generator(model):\n",
    "    batch_size = 32\n",
    "    epochs = 4\n",
    "\n",
    "    model.fit_generator(\n",
    "        dataset_iterator(train_dataset, batch_size, as_np=True, extend=True),\n",
    "        steps_per_epoch=len(train_dataset.all_x) / batch_size,\n",
    "        epochs=epochs,\n",
    "        validation_data=dataset_iterator(dev_dataset, batch_size, as_np=True, extend=True),\n",
    "        validation_steps=len(dev_dataset.all_x) / batch_size,\n",
    "    )\n",
    "\n",
    "    return model"
   ]
  },
  {
   "cell_type": "code",
   "execution_count": 45,
   "metadata": {},
   "outputs": [],
   "source": [
    "# print 'Loading train data'\n",
    "# X_train, Y_train = load_all_dataset(train_dataset)\n",
    "# print 'Loading dev data'\n",
    "# X_dev, Y_dev = load_all_dataset(dev_dataset)"
   ]
  },
  {
   "cell_type": "code",
   "execution_count": 46,
   "metadata": {},
   "outputs": [
    {
     "name": "stdout",
     "output_type": "stream",
     "text": [
      "Epoch 1/4\n",
      "1419/1419 [==============================] - 5687s 4s/step - loss: 0.4233 - acc: 0.8370 - val_loss: 3.0405 - val_acc: 0.5762\n",
      "Epoch 2/4\n",
      "1419/1419 [==============================] - 5266s 4s/step - loss: 0.1159 - acc: 0.9614 - val_loss: 3.1389 - val_acc: 0.5513\n",
      "Epoch 3/4\n",
      "1419/1419 [==============================] - 5178s 4s/step - loss: 0.0742 - acc: 0.9752 - val_loss: 2.5753 - val_acc: 0.6113\n",
      "Epoch 4/4\n",
      "1419/1419 [==============================] - 5163s 4s/step - loss: 0.0564 - acc: 0.9814 - val_loss: 3.3037 - val_acc: 0.5399\n"
     ]
    }
   ],
   "source": [
    "# _ = fit(model, X_train=X_train, Y_train=Y_train, X_dev=X_dev, Y_dev=Y_dev)\n",
    "_ = fit_generator(model)"
   ]
  },
  {
   "cell_type": "code",
   "execution_count": null,
   "metadata": {},
   "outputs": [
    {
     "name": "stdout",
     "output_type": "stream",
     "text": [
      "Loading train data\n"
     ]
    }
   ],
   "source": [
    "print 'Loading train data'\n",
    "X_test, Y_test = load_all_dataset(test_dataset)"
   ]
  },
  {
   "cell_type": "code",
   "execution_count": 47,
   "metadata": {},
   "outputs": [
    {
     "ename": "NameError",
     "evalue": "name 'X_test' is not defined",
     "output_type": "error",
     "traceback": [
      "\u001b[0;31m---------------------------------------------------------------------------\u001b[0m",
      "\u001b[0;31mNameError\u001b[0m                                 Traceback (most recent call last)",
      "\u001b[0;32m<ipython-input-47-73153b2437a7>\u001b[0m in \u001b[0;36m<module>\u001b[0;34m()\u001b[0m\n\u001b[0;32m----> 1\u001b[0;31m \u001b[0mmodel\u001b[0m\u001b[0;34m.\u001b[0m\u001b[0mevaluate\u001b[0m\u001b[0;34m(\u001b[0m\u001b[0mx\u001b[0m\u001b[0;34m=\u001b[0m\u001b[0mX_test\u001b[0m\u001b[0;34m,\u001b[0m \u001b[0my\u001b[0m\u001b[0;34m=\u001b[0m\u001b[0mY_test\u001b[0m\u001b[0;34m)\u001b[0m\u001b[0;34m\u001b[0m\u001b[0m\n\u001b[0m",
      "\u001b[0;31mNameError\u001b[0m: name 'X_test' is not defined"
     ]
    }
   ],
   "source": [
    "model.evaluate(x=X_test, y=Y_test)"
   ]
  },
  {
   "cell_type": "markdown",
   "metadata": {},
   "source": [
    "## Experiment results"
   ]
  },
  {
   "cell_type": "markdown",
   "metadata": {},
   "source": [
    "#### 1"
   ]
  },
  {
   "cell_type": "markdown",
   "metadata": {},
   "source": [
    "languages = ['ab_Portuguese', 'ab_Russian', 'ab_English', 'ab_French', 'ab_German']\n",
    "seconds = 5, skip_augment = False\n",
    "\n",
    "Epoch 1/4\n",
    "1419/1419 [==============================] - 5687s 4s/step - loss: 0.4233 - acc: 0.8370 - val_loss: 3.0405 - val_acc: 0.5762\n",
    "Epoch 2/4\n",
    "1419/1419 [==============================] - 5266s 4s/step - loss: 0.1159 - acc: 0.9614 - val_loss: 3.1389 - val_acc: 0.5513\n",
    "Epoch 3/4\n",
    "1419/1419 [==============================] - 5178s 4s/step - loss: 0.0742 - acc: 0.9752 - val_loss: 2.5753 - val_acc: 0.6113\n",
    "Epoch 4/4\n",
    "1419/1419 [==============================] - 5163s 4s/step - loss: 0.0564 - acc: 0.9814 - val_loss: 3.3037 - val_acc: 0.5399\n"
   ]
  },
  {
   "cell_type": "markdown",
   "metadata": {},
   "source": [
    "### Plot"
   ]
  },
  {
   "cell_type": "code",
   "execution_count": 82,
   "metadata": {},
   "outputs": [],
   "source": [
    "def plot(acc_train, acc_val, acc_test, title):\n",
    "    N = len(acc_train) + 2\n",
    "    ticks = [u'Epoch {}'.format(i) for i in xrange(len(acc_train_1))]\n",
    "    ticks += [u'', u'Test']\n",
    "    \n",
    "    acc_train += [0, acc_test]\n",
    "    acc_val += [0, 0]\n",
    "\n",
    "    ind = np.arange(N)  # the x locations for the groups\n",
    "    width = 0.35       # the width of the bars\n",
    "\n",
    "    fig, ax = plt.subplots(figsize=(15, 6))\n",
    "    rects1 = ax.bar(ind, acc_train, width)\n",
    "    rects2 = ax.bar(ind + width, acc_val, width)\n",
    "\n",
    "    # add some text for labels, title and axes ticks\n",
    "    ax.set_ylabel('Accuracy')\n",
    "    ax.set_title(title, fontsize=15)\n",
    "    ax.set_xticks(ind + width / 2)\n",
    "    ax.set_xticklabels((ticks))\n",
    "    \n",
    "    def autolabel(rects):\n",
    "        \"\"\"\n",
    "        Attach a text label above each bar displaying its height\n",
    "        \"\"\"\n",
    "        for rect in rects:\n",
    "            height = rect.get_height()\n",
    "            if height == 0.0:\n",
    "                continue\n",
    "            ax.text(rect.get_x() + rect.get_width() / 2, height, '%.3f' % height, ha='center', va='bottom', fontsize=13)\n",
    "\n",
    "    autolabel(rects1)\n",
    "    autolabel(rects2)\n",
    "\n",
    "    ax.legend((rects1[0], rects2[0]), ('Train or test', 'Validation'), loc=4, prop={'size': 20})"
   ]
  },
  {
   "cell_type": "code",
   "execution_count": 83,
   "metadata": {},
   "outputs": [
    {
     "data": {
      "image/png": "[encoded data removed]",
      "text/plain": [
       "<matplotlib.figure.Figure at 0x7f720fb2c350>"
      ]
     },
     "metadata": {},
     "output_type": "display_data"
    }
   ],
   "source": [
    "acc_train_1 = [0.9464, 0.9881, 0.9914, 0.9934]\n",
    "acc_val_1 = [0.6178, 0.6566, 0.4691, 0.6056]\n",
    "acc_test_1 = 0.7344\n",
    "title_1 = u'2 lang. 9 sec. 20000-10000-5000 train-test-val. With aug'\n",
    "plot(acc_train_1, acc_val_1, acc_test_1, title_1)"
   ]
  },
  {
   "cell_type": "code",
   "execution_count": 84,
   "metadata": {},
   "outputs": [
    {
     "data": {
      "image/png": "[encoded data removed]",
      "text/plain": [
       "<matplotlib.figure.Figure at 0x7f720f989ed0>"
      ]
     },
     "metadata": {},
     "output_type": "display_data"
    }
   ],
   "source": [
    "acc_train_2 = [0.9546, 0.9942, 0.9967, 0.9974]\n",
    "acc_val_2 = [0.5064, 0.5776, 0.5547, 0.5356]\n",
    "acc_test_2 = 0.6269\n",
    "title_2 = u'2 lang. 9 sec. 20000-10000-5000 train-test-val. NO Aug'\n",
    "plot(acc_train_2, acc_val_2, acc_test_2, title_2)"
   ]
  },
  {
   "cell_type": "code",
   "execution_count": 85,
   "metadata": {},
   "outputs": [
    {
     "data": {
      "image/png": "[encoded data removed]",
      "text/plain": [
       "<matplotlib.figure.Figure at 0x7f720f8eefd0>"
      ]
     },
     "metadata": {},
     "output_type": "display_data"
    }
   ],
   "source": [
    "acc_train_3 = [0.7020, 0.9098, 0.9388, 0.9513]\n",
    "acc_val_3 = [0.7777, 0.6875, 0.8150, 0.8568]\n",
    "acc_test_3 = 0.9033\n",
    "title_3 = u'4 lang. 2 sec. 7000-2000-500 train-test-val. With Aug'\n",
    "plot(acc_train_3, acc_val_3, acc_test_3, title_3)"
   ]
  },
  {
   "cell_type": "code",
   "execution_count": 86,
   "metadata": {},
   "outputs": [],
   "source": [
    "acc_4_all_train = [0.9317, 0.9617, 0.9802]\n",
    "acc_4_all_val = [0.5655, 0.6598, 0.6546]\n",
    "acc_4_all_test = [0.6533, 0.6872, 0.6766]"
   ]
  },
  {
   "cell_type": "code",
   "execution_count": 99,
   "metadata": {},
   "outputs": [
    {
     "data": {
      "text/plain": [
       "<matplotlib.legend.Legend at 0x7f7210092a90>"
      ]
     },
     "execution_count": 99,
     "metadata": {},
     "output_type": "execute_result"
    },
    {
     "data": {
      "image/png": "[encoded data removed]",
      "text/plain": [
       "<matplotlib.figure.Figure at 0x7f7210092150>"
      ]
     },
     "metadata": {},
     "output_type": "display_data"
    }
   ],
   "source": [
    "N = len(acc_4_all_train)\n",
    "ticks = ['3s', '5s', '7s']\n",
    "\n",
    "ind = np.arange(N)  # the x locations for the groups\n",
    "width = 0.25       # the width of the bars\n",
    "\n",
    "fig, ax = plt.subplots(figsize=(15, 6))\n",
    "rects1 = ax.bar(ind, acc_4_all_train, width)\n",
    "rects2 = ax.bar(ind + width, acc_4_all_val, width)\n",
    "rects3 = ax.bar(ind + 2 * width, acc_4_all_test, width)\n",
    "\n",
    "# add some text for labels, title and axes ticks\n",
    "ax.set_ylabel('Accuracy')\n",
    "ax.set_title('6 languages, With augment, Train/test/val = 35000/17500/7000', fontsize=15)\n",
    "ax.set_xticks(ind + width / 2)\n",
    "ax.set_xticklabels((ticks))\n",
    "plt.xticks(fontsize=15)\n",
    "\n",
    "def autolabel(rects):\n",
    "    \"\"\"\n",
    "    Attach a text label above each bar displaying its height\n",
    "    \"\"\"\n",
    "    for rect in rects:\n",
    "        height = rect.get_height()\n",
    "        if height == 0.0:\n",
    "            continue\n",
    "        ax.text(rect.get_x() + rect.get_width() / 2, height, '%.3f' % height, ha='center', va='bottom', fontsize=13)\n",
    "\n",
    "autolabel(rects1)\n",
    "autolabel(rects2)\n",
    "autolabel(rects3)\n",
    "\n",
    "ax.legend((rects1[0], rects2[0], rects3[0]), ('Train', 'Validation', 'Test'), loc=4, prop={'size': 20})"
   ]
  },
  {
   "cell_type": "code",
   "execution_count": null,
   "metadata": {},
   "outputs": [],
   "source": []
  },
  {
   "cell_type": "code",
   "execution_count": null,
   "metadata": {},
   "outputs": [],
   "source": []
  }
 ],
 "metadata": {
  "kernelspec": {
   "display_name": "Python 2",
   "language": "python",
   "name": "python2"
  },
  "language_info": {
   "codemirror_mode": {
    "name": "ipython",
    "version": 2
   },
   "file_extension": ".py",
   "mimetype": "text/x-python",
   "name": "python",
   "nbconvert_exporter": "python",
   "pygments_lexer": "ipython2",
   "version": "2.7.12"
  }
 },
 "nbformat": 4,
 "nbformat_minor": 2
}
